{
 "cells": [
  {
   "cell_type": "markdown",
   "metadata": {
    "id": "KCFNxQR41elh"
   },
   "source": [
    "**Comcast Telecom Consumer Complaints**"
   ]
  },
  {
   "cell_type": "markdown",
   "metadata": {
    "id": "X894MXZ_1J_q"
   },
   "source": [
    "Comcast is an American global telecommunication company. The firm has been providing terrible customer service. They continue to fall short despite repeated promises to improve. Only last month (October 2016) the authority fined them a $2.3 million, after receiving over 1000 consumer complaints.\n",
    "The existing database will serve as a repository of public customer complaints filed against Comcast.\n",
    "It will help to pin down what is wrong with Comcast's customer service.\n",
    "\n",
    "**Data Dictionary**\n",
    "\n",
    "*   Ticket #: Ticket number assigned to each complaint\n",
    "*   Customer Complaint: Description of complaint\n",
    "*   Date: Date of complaint\n",
    "*   Time: Time of complaint\n",
    "*   Received Via: Mode of communication of the complaint\n",
    "*   City: Customer city\n",
    "*   State: Customer state\n",
    "*   Zipcode: Customer zip\n",
    "*   Status: Status of complaint\n",
    "*   Filing on behalf of someone"
   ]
  },
  {
   "cell_type": "markdown",
   "metadata": {
    "id": "uGjGaKqA2AcE"
   },
   "source": [
    "**Analysis Task**"
   ]
  },
  {
   "cell_type": "markdown",
   "metadata": {
    "id": "KiHpH19jWCNI"
   },
   "source": [
    "To perform these tasks, you can use any of the different Python libraries such as NumPy, SciPy, Pandas, scikit-learn, matplotlib, and BeautifulSoup."
   ]
  },
  {
   "cell_type": "code",
   "execution_count": null,
   "metadata": {
    "id": "8oVSTIgeeVR7"
   },
   "outputs": [],
   "source": [
    "import pandas as pd\n",
    "import numpy as np\n",
    "%matplotlib inline \n",
    "\n",
    "import matplotlib.pyplot as plt"
   ]
  },
  {
   "cell_type": "code",
   "execution_count": null,
   "metadata": {
    "colab": {
     "base_uri": "https://localhost:8080/",
     "height": 34
    },
    "executionInfo": {
     "elapsed": 365,
     "status": "ok",
     "timestamp": 1624090329228,
     "user": {
      "displayName": "saranya nagarajan",
      "photoUrl": "",
      "userId": "05315324710831604653"
     },
     "user_tz": -330
    },
    "id": "x2h0kxK0S3LU",
    "outputId": "10482854-925b-481d-ca36-58c603798a0a"
   },
   "outputs": [
    {
     "data": {
      "application/vnd.google.colaboratory.intrinsic+json": {
       "type": "string"
      },
      "text/plain": [
       "'/content'"
      ]
     },
     "execution_count": 6,
     "metadata": {
      "tags": []
     },
     "output_type": "execute_result"
    }
   ],
   "source": [
    "import os  # To get current working directory\n",
    "os.getcwd()"
   ]
  },
  {
   "cell_type": "code",
   "execution_count": null,
   "metadata": {
    "id": "MGJbVvPmWj9H"
   },
   "outputs": [],
   "source": [
    "- Import data into Python environment"
   ]
  },
  {
   "cell_type": "code",
   "execution_count": null,
   "metadata": {
    "id": "LcB9O-c2TH3D"
   },
   "outputs": [],
   "source": [
    "df = pd.read_csv('/content/Comcast_telecom_complaints_data.csv',delimiter = ',' ) # we use ',' as delimiter as it a csv file"
   ]
  },
  {
   "cell_type": "code",
   "execution_count": null,
   "metadata": {
    "colab": {
     "base_uri": "https://localhost:8080/"
    },
    "executionInfo": {
     "elapsed": 343,
     "status": "ok",
     "timestamp": 1624098921125,
     "user": {
      "displayName": "saranya nagarajan",
      "photoUrl": "",
      "userId": "05315324710831604653"
     },
     "user_tz": -330
    },
    "id": "YyoFHX85wRiW",
    "outputId": "273ca43a-2df2-4159-e8ee-31e104e44384"
   },
   "outputs": [
    {
     "name": "stdout",
     "output_type": "stream",
     "text": [
      "<class 'pandas.core.frame.DataFrame'>\n",
      "RangeIndex: 2224 entries, 0 to 2223\n",
      "Data columns (total 11 columns):\n",
      " #   Column                       Non-Null Count  Dtype \n",
      "---  ------                       --------------  ----- \n",
      " 0   Ticket #                     2224 non-null   object\n",
      " 1   Customer Complaint           2224 non-null   object\n",
      " 2   Date                         2224 non-null   object\n",
      " 3   Date_month_year              2224 non-null   object\n",
      " 4   Time                         2224 non-null   object\n",
      " 5   Received Via                 2224 non-null   object\n",
      " 6   City                         2224 non-null   object\n",
      " 7   State                        2224 non-null   object\n",
      " 8   Zip code                     2224 non-null   int64 \n",
      " 9   Status                       2224 non-null   object\n",
      " 10  Filing on Behalf of Someone  2224 non-null   object\n",
      "dtypes: int64(1), object(10)\n",
      "memory usage: 191.2+ KB\n"
     ]
    }
   ],
   "source": [
    "df.info()"
   ]
  },
  {
   "cell_type": "markdown",
   "metadata": {
    "id": "3lAXw1BKWqKE"
   },
   "source": [
    "- Provide the trend chart for the number of complaints at monthly and daily granularity levels."
   ]
  },
  {
   "cell_type": "code",
   "execution_count": null,
   "metadata": {
    "colab": {
     "base_uri": "https://localhost:8080/",
     "height": 311
    },
    "executionInfo": {
     "elapsed": 597,
     "status": "ok",
     "timestamp": 1624184165388,
     "user": {
      "displayName": "saranya nagarajan",
      "photoUrl": "",
      "userId": "05315324710831604653"
     },
     "user_tz": -330
    },
    "id": "_xlIZCK_Wqn1",
    "outputId": "1f9d5f25-ecaf-46c9-cd51-9b9e6623d51d"
   },
   "outputs": [
    {
     "data": {
      "image/png": "[encoded data removed]",
      "text/plain": [
       "<Figure size 432x288 with 1 Axes>"
      ]
     },
     "metadata": {
      "needs_background": "light",
      "tags": []
     },
     "output_type": "display_data"
    }
   ],
   "source": [
    "df['month'] = pd.to_datetime(df['Date_month_year']).dt.to_period('M') #To create new col 'month' of MM-YYYY formath from 'Date_month_year'\n",
    "df.groupby('month')['Ticket #'].count().plot.bar()  ;"
   ]
  },
  {
   "cell_type": "code",
   "execution_count": null,
   "metadata": {
    "colab": {
     "base_uri": "https://localhost:8080/",
     "height": 279
    },
    "executionInfo": {
     "elapsed": 466,
     "status": "ok",
     "timestamp": 1624184170856,
     "user": {
      "displayName": "saranya nagarajan",
      "photoUrl": "",
      "userId": "05315324710831604653"
     },
     "user_tz": -330
    },
    "id": "Hxev1T5FvCcW",
    "outputId": "7495ac92-0c87-44d7-ebaf-8b490fb0b241"
   },
   "outputs": [
    {
     "data": {
      "image/png": "[encoded data removed]",
      "text/plain": [
       "<Figure size 432x288 with 1 Axes>"
      ]
     },
     "metadata": {
      "needs_background": "light",
      "tags": []
     },
     "output_type": "display_data"
    }
   ],
   "source": [
    "df['date'] = pd.to_datetime(df['Date_month_year']).dt.day  #To create new col 'date' of DD formath from 'Date_month_year'\n",
    "df.groupby('date')['Ticket #'].count().plot(kind='line' , color = 'red');"
   ]
  },
  {
   "cell_type": "markdown",
   "metadata": {
    "id": "aE5P1Kg6VpdG"
   },
   "source": [
    "- Provide a table with the frequency of complaint types.\n",
    "\n",
    "Which complaint types are maximum i.e., around internet, network issues, or across any other domains."
   ]
  },
  {
   "cell_type": "code",
   "execution_count": null,
   "metadata": {
    "colab": {
     "base_uri": "https://localhost:8080/"
    },
    "executionInfo": {
     "elapsed": 373,
     "status": "ok",
     "timestamp": 1624184175090,
     "user": {
      "displayName": "saranya nagarajan",
      "photoUrl": "",
      "userId": "05315324710831604653"
     },
     "user_tz": -330
    },
    "id": "lL6LuPFhVo7A",
    "outputId": "df39c701-7788-449a-a79e-7d2616f6a66a"
   },
   "outputs": [
    {
     "data": {
      "text/plain": [
       "Received Via\n",
       "Customer Care Call    1119\n",
       "Internet              1105\n",
       "Name: Ticket #, dtype: int64"
      ]
     },
     "execution_count": 5,
     "metadata": {
      "tags": []
     },
     "output_type": "execute_result"
    }
   ],
   "source": [
    "df.groupby('Received Via')['Ticket #'].count() #Grouping records based on complaints \"received via\""
   ]
  },
  {
   "cell_type": "markdown",
   "metadata": {
    "id": "Su8N-B3XWO7f"
   },
   "source": [
    "- Create a new categorical variable with value as Open and Closed. Open & Pending is to be categorized as Open and Closed & Solved is to be categorized as Closed."
   ]
  },
  {
   "cell_type": "code",
   "execution_count": null,
   "metadata": {
    "id": "vjuRrBL77zkZ"
   },
   "outputs": [],
   "source": [
    "df['Status2'] = df['Status'].apply(lambda x: 'Open' if ((x=='Open')| (x=='Pending')) else 'Closed') # New categorical col Status2"
   ]
  },
  {
   "cell_type": "code",
   "execution_count": null,
   "metadata": {
    "colab": {
     "base_uri": "https://localhost:8080/",
     "height": 569
    },
    "executionInfo": {
     "elapsed": 383,
     "status": "ok",
     "timestamp": 1624159864433,
     "user": {
      "displayName": "saranya nagarajan",
      "photoUrl": "",
      "userId": "05315324710831604653"
     },
     "user_tz": -330
    },
    "id": "jO7X9AX39KaY",
    "outputId": "cd81928f-3ad9-41f4-ea8d-9a44a155584d"
   },
   "outputs": [
    {
     "data": {
      "text/html": [
       "<div>\n",
       "<style scoped>\n",
       "    .dataframe tbody tr th:only-of-type {\n",
       "        vertical-align: middle;\n",
       "    }\n",
       "\n",
       "    .dataframe tbody tr th {\n",
       "        vertical-align: top;\n",
       "    }\n",
       "\n",
       "    .dataframe thead th {\n",
       "        text-align: right;\n",
       "    }\n",
       "</style>\n",
       "<table border=\"1\" class=\"dataframe\">\n",
       "  <thead>\n",
       "    <tr style=\"text-align: right;\">\n",
       "      <th></th>\n",
       "      <th>Ticket #</th>\n",
       "      <th>Customer Complaint</th>\n",
       "      <th>Date</th>\n",
       "      <th>Date_month_year</th>\n",
       "      <th>Time</th>\n",
       "      <th>Received Via</th>\n",
       "      <th>City</th>\n",
       "      <th>State</th>\n",
       "      <th>Zip code</th>\n",
       "      <th>Status</th>\n",
       "      <th>Filing on Behalf of Someone</th>\n",
       "      <th>Status2</th>\n",
       "    </tr>\n",
       "  </thead>\n",
       "  <tbody>\n",
       "    <tr>\n",
       "      <th>0</th>\n",
       "      <td>250635</td>\n",
       "      <td>Comcast Cable Internet Speeds</td>\n",
       "      <td>22-04-15</td>\n",
       "      <td>22-Apr-15</td>\n",
       "      <td>3:53:50 PM</td>\n",
       "      <td>Customer Care Call</td>\n",
       "      <td>Abingdon</td>\n",
       "      <td>Maryland</td>\n",
       "      <td>21009</td>\n",
       "      <td>Closed</td>\n",
       "      <td>No</td>\n",
       "      <td>Closed</td>\n",
       "    </tr>\n",
       "    <tr>\n",
       "      <th>1</th>\n",
       "      <td>223441</td>\n",
       "      <td>Payment disappear - service got disconnected</td>\n",
       "      <td>04-08-15</td>\n",
       "      <td>04-Aug-15</td>\n",
       "      <td>10:22:56 AM</td>\n",
       "      <td>Internet</td>\n",
       "      <td>Acworth</td>\n",
       "      <td>Georgia</td>\n",
       "      <td>30102</td>\n",
       "      <td>Closed</td>\n",
       "      <td>No</td>\n",
       "      <td>Closed</td>\n",
       "    </tr>\n",
       "    <tr>\n",
       "      <th>2</th>\n",
       "      <td>242732</td>\n",
       "      <td>Speed and Service</td>\n",
       "      <td>18-04-15</td>\n",
       "      <td>18-Apr-15</td>\n",
       "      <td>9:55:47 AM</td>\n",
       "      <td>Internet</td>\n",
       "      <td>Acworth</td>\n",
       "      <td>Georgia</td>\n",
       "      <td>30101</td>\n",
       "      <td>Closed</td>\n",
       "      <td>Yes</td>\n",
       "      <td>Closed</td>\n",
       "    </tr>\n",
       "    <tr>\n",
       "      <th>3</th>\n",
       "      <td>277946</td>\n",
       "      <td>Comcast Imposed a New Usage Cap of 300GB that ...</td>\n",
       "      <td>05-07-15</td>\n",
       "      <td>05-Jul-15</td>\n",
       "      <td>11:59:35 AM</td>\n",
       "      <td>Internet</td>\n",
       "      <td>Acworth</td>\n",
       "      <td>Georgia</td>\n",
       "      <td>30101</td>\n",
       "      <td>Open</td>\n",
       "      <td>Yes</td>\n",
       "      <td>Open</td>\n",
       "    </tr>\n",
       "    <tr>\n",
       "      <th>4</th>\n",
       "      <td>307175</td>\n",
       "      <td>Comcast not working and no service to boot</td>\n",
       "      <td>26-05-15</td>\n",
       "      <td>26-May-15</td>\n",
       "      <td>1:25:26 PM</td>\n",
       "      <td>Internet</td>\n",
       "      <td>Acworth</td>\n",
       "      <td>Georgia</td>\n",
       "      <td>30101</td>\n",
       "      <td>Solved</td>\n",
       "      <td>No</td>\n",
       "      <td>Closed</td>\n",
       "    </tr>\n",
       "    <tr>\n",
       "      <th>5</th>\n",
       "      <td>338519</td>\n",
       "      <td>ISP Charging for arbitrary data limits with ov...</td>\n",
       "      <td>06-12-15</td>\n",
       "      <td>06-Dec-15</td>\n",
       "      <td>9:59:40 PM</td>\n",
       "      <td>Internet</td>\n",
       "      <td>Acworth</td>\n",
       "      <td>Georgia</td>\n",
       "      <td>30101</td>\n",
       "      <td>Solved</td>\n",
       "      <td>No</td>\n",
       "      <td>Closed</td>\n",
       "    </tr>\n",
       "    <tr>\n",
       "      <th>6</th>\n",
       "      <td>361148</td>\n",
       "      <td>Throttling service and unreasonable data caps</td>\n",
       "      <td>24-06-15</td>\n",
       "      <td>24-Jun-15</td>\n",
       "      <td>10:13:55 AM</td>\n",
       "      <td>Customer Care Call</td>\n",
       "      <td>Acworth</td>\n",
       "      <td>Georgia</td>\n",
       "      <td>30101</td>\n",
       "      <td>Pending</td>\n",
       "      <td>No</td>\n",
       "      <td>Open</td>\n",
       "    </tr>\n",
       "    <tr>\n",
       "      <th>7</th>\n",
       "      <td>359792</td>\n",
       "      <td>Comcast refuses to help troubleshoot and corre...</td>\n",
       "      <td>23-06-15</td>\n",
       "      <td>23-Jun-15</td>\n",
       "      <td>6:56:14 PM</td>\n",
       "      <td>Internet</td>\n",
       "      <td>Adrian</td>\n",
       "      <td>Michigan</td>\n",
       "      <td>49221</td>\n",
       "      <td>Solved</td>\n",
       "      <td>No</td>\n",
       "      <td>Closed</td>\n",
       "    </tr>\n",
       "    <tr>\n",
       "      <th>8</th>\n",
       "      <td>318072</td>\n",
       "      <td>Comcast extended outages</td>\n",
       "      <td>06-01-15</td>\n",
       "      <td>06-Jan-15</td>\n",
       "      <td>11:46:30 PM</td>\n",
       "      <td>Customer Care Call</td>\n",
       "      <td>Alameda</td>\n",
       "      <td>California</td>\n",
       "      <td>94502</td>\n",
       "      <td>Closed</td>\n",
       "      <td>No</td>\n",
       "      <td>Closed</td>\n",
       "    </tr>\n",
       "    <tr>\n",
       "      <th>9</th>\n",
       "      <td>371214</td>\n",
       "      <td>Comcast Raising Prices and Not Being Available...</td>\n",
       "      <td>28-06-15</td>\n",
       "      <td>28-Jun-15</td>\n",
       "      <td>6:46:31 PM</td>\n",
       "      <td>Customer Care Call</td>\n",
       "      <td>Alameda</td>\n",
       "      <td>California</td>\n",
       "      <td>94501</td>\n",
       "      <td>Open</td>\n",
       "      <td>Yes</td>\n",
       "      <td>Open</td>\n",
       "    </tr>\n",
       "  </tbody>\n",
       "</table>\n",
       "</div>"
      ],
      "text/plain": [
       "  Ticket #  ... Status2\n",
       "0   250635  ...  Closed\n",
       "1   223441  ...  Closed\n",
       "2   242732  ...  Closed\n",
       "3   277946  ...    Open\n",
       "4   307175  ...  Closed\n",
       "5   338519  ...  Closed\n",
       "6   361148  ...    Open\n",
       "7   359792  ...  Closed\n",
       "8   318072  ...  Closed\n",
       "9   371214  ...    Open\n",
       "\n",
       "[10 rows x 12 columns]"
      ]
     },
     "execution_count": 16,
     "metadata": {
      "tags": []
     },
     "output_type": "execute_result"
    }
   ],
   "source": [
    "df.head(10)"
   ]
  },
  {
   "cell_type": "markdown",
   "metadata": {
    "id": "e_FeXCJGfxe8"
   },
   "source": [
    "- Provide state wise status of complaints in a stacked bar chart. Use the categorized variable from Q3. "
   ]
  },
  {
   "cell_type": "code",
   "execution_count": null,
   "metadata": {
    "colab": {
     "base_uri": "https://localhost:8080/"
    },
    "executionInfo": {
     "elapsed": 351,
     "status": "ok",
     "timestamp": 1624161475701,
     "user": {
      "displayName": "saranya nagarajan",
      "photoUrl": "",
      "userId": "05315324710831604653"
     },
     "user_tz": -330
    },
    "id": "yXenSQS9U9tv",
    "outputId": "bdc03b9b-ad24-4292-f3fa-8996325152f1"
   },
   "outputs": [
    {
     "data": {
      "text/plain": [
       "Status2    80\n",
       "dtype: int64"
      ]
     },
     "execution_count": 40,
     "metadata": {
      "tags": []
     },
     "output_type": "execute_result"
    }
   ],
   "source": [
    "# df[df['Status2'] == 'Open'].groupby(['State'])['Status2'].count().to_frame()\n",
    "# df[df['Status2'] == 'Closed'].groupby(['State'])['Status2'].count().to_frame()\n",
    "df[df['Status2'] == 'Open'].groupby(['State'])['Status2'].count().to_frame().max()"
   ]
  },
  {
   "cell_type": "code",
   "execution_count": null,
   "metadata": {
    "id": "EcMJyPvmDSyW"
   },
   "outputs": [],
   "source": [
    "opdf = df[df['Status2'] == 'Open'].groupby(['State'])['Status2'].count().to_frame().reset_index() # DF for open cases details\n",
    "cldf = df[df['Status2'] == 'Closed'].groupby(['State'])['Status2'].count().to_frame().reset_index() # DF for closed cases details"
   ]
  },
  {
   "cell_type": "code",
   "execution_count": null,
   "metadata": {
    "colab": {
     "base_uri": "https://localhost:8080/",
     "height": 894
    },
    "executionInfo": {
     "elapsed": 1267,
     "status": "ok",
     "timestamp": 1624161405566,
     "user": {
      "displayName": "saranya nagarajan",
      "photoUrl": "",
      "userId": "05315324710831604653"
     },
     "user_tz": -330
    },
    "id": "pqWGoC50uAFm",
    "outputId": "d11e4d4d-8241-4b7d-8ea7-8f5876f167cb"
   },
   "outputs": [
    {
     "data": {
      "text/plain": [
       "Text(0, 0.5, 'State')"
      ]
     },
     "execution_count": 39,
     "metadata": {
      "tags": []
     },
     "output_type": "execute_result"
    },
    {
     "data": {
      "image/png": "[encoded data removed]",
      "text/plain": [
       "<Figure size 1080x1080 with 1 Axes>"
      ]
     },
     "metadata": {
      "needs_background": "light",
      "tags": []
     },
     "output_type": "display_data"
    }
   ],
   "source": [
    "fig = plt.figure(figsize=(15,15))\n",
    "plt.barh(cldf.State, cldf.Status2)\n",
    "plt.barh(opdf.State, opdf.Status2) # Plotting the bars stacked over\n",
    "plt.legend([\"Closed\",\"Open\"])\n",
    "plt.xlabel(\"Count on status\")\n",
    "plt.ylabel(\"State\")"
   ]
  },
  {
   "cell_type": "markdown",
   "metadata": {
    "id": "ugHqHF8yk1Eo"
   },
   "source": [
    "Provide insights on:\n",
    "    *   Which state has the maximum complaints \n",
    "    \n",
    "    Ans : Georgia"
   ]
  },
  {
   "cell_type": "code",
   "execution_count": null,
   "metadata": {
    "colab": {
     "base_uri": "https://localhost:8080/"
    },
    "executionInfo": {
     "elapsed": 384,
     "status": "ok",
     "timestamp": 1624184212203,
     "user": {
      "displayName": "saranya nagarajan",
      "photoUrl": "",
      "userId": "05315324710831604653"
     },
     "user_tz": -330
    },
    "id": "AM9PmLfM1LWL",
    "outputId": "58163511-3feb-4aae-a576-1e6046d0998a"
   },
   "outputs": [
    {
     "data": {
      "text/plain": [
       "Georgia         288\n",
       "Florida         240\n",
       "California      220\n",
       "Illinois        164\n",
       "Tennessee       143\n",
       "Pennsylvania    130\n",
       "Michigan        115\n",
       "Washington       98\n",
       "Colorado         80\n",
       "Maryland         78\n",
       "Name: State, dtype: int64"
      ]
     },
     "execution_count": 8,
     "metadata": {
      "tags": []
     },
     "output_type": "execute_result"
    }
   ],
   "source": [
    "df2=df[['State','Status2']]\n",
    "df2['State'].value_counts().head(10) # To get total number of complaints state-wise"
   ]
  },
  {
   "cell_type": "markdown",
   "metadata": {
    "id": "9qA9EIZzm6ha"
   },
   "source": [
    "Which state has the highest percentage of unresolved complaints\n",
    "\n",
    "Ans - California"
   ]
  },
  {
   "cell_type": "code",
   "execution_count": null,
   "metadata": {
    "colab": {
     "base_uri": "https://localhost:8080/"
    },
    "executionInfo": {
     "elapsed": 494,
     "status": "ok",
     "timestamp": 1624184773162,
     "user": {
      "displayName": "saranya nagarajan",
      "photoUrl": "",
      "userId": "05315324710831604653"
     },
     "user_tz": -330
    },
    "id": "Wsv2gD6_nuEj",
    "outputId": "11bff876-3306-4fcd-b106-9ee2fdc23c7d"
   },
   "outputs": [
    {
     "data": {
      "text/plain": [
       "Status2  State               \n",
       "Open     California              12.947658\n",
       "         Florida                  9.641873\n",
       "         Georgia                  9.641873\n",
       "         Tennessee                9.090909\n",
       "         Illinois                 6.336088\n",
       "         Michigan                 4.958678\n",
       "         Texas                    4.958678\n",
       "         Washington               4.958678\n",
       "         New Jersey               4.683196\n",
       "         Pennsylvania             3.856749\n",
       "         Maryland                 3.581267\n",
       "         Colorado                 3.305785\n",
       "         Massachusetts            2.754821\n",
       "         Oregon                   2.754821\n",
       "         Mississippi              2.479339\n",
       "         Indiana                  2.203857\n",
       "         Virginia                 2.203857\n",
       "         Utah                     1.652893\n",
       "         Alabama                  1.101928\n",
       "         Delaware                 0.826446\n",
       "         New Hampshire            0.826446\n",
       "         New Mexico               0.826446\n",
       "         West Virginia            0.826446\n",
       "         Arizona                  0.550964\n",
       "         Connecticut              0.550964\n",
       "         Maine                    0.550964\n",
       "         Minnesota                0.550964\n",
       "         South Carolina           0.550964\n",
       "         District Of Columbia     0.275482\n",
       "         Missouri                 0.275482\n",
       "         Vermont                  0.275482\n",
       "Name: State, dtype: float64"
      ]
     },
     "execution_count": 11,
     "metadata": {
      "tags": []
     },
     "output_type": "execute_result"
    }
   ],
   "source": [
    "df[df['Status2'] == 'Open'].groupby(['Status2'])['State'].value_counts(normalize=True)*100  # To get % of open complaints state-wise"
   ]
  },
  {
   "cell_type": "markdown",
   "metadata": {
    "id": "YwHu6L-BlCWc"
   },
   "source": [
    "\n",
    "- Provide the percentage of complaints resolved till date, which were received through the Internet and customer care calls."
   ]
  },
  {
   "cell_type": "code",
   "execution_count": null,
   "metadata": {
    "colab": {
     "base_uri": "https://localhost:8080/"
    },
    "executionInfo": {
     "elapsed": 513,
     "status": "ok",
     "timestamp": 1624184937091,
     "user": {
      "displayName": "saranya nagarajan",
      "photoUrl": "",
      "userId": "05315324710831604653"
     },
     "user_tz": -330
    },
    "id": "p__aPqmB9zi6",
    "outputId": "15da2c54-f915-4de5-b0c2-fc7ce3edbe2c"
   },
   "outputs": [
    {
     "data": {
      "text/plain": [
       "Status2  Received Via      \n",
       "Open     Customer Care Call    51.239669\n",
       "         Internet              48.760331\n",
       "Name: Received Via, dtype: float64"
      ]
     },
     "execution_count": 12,
     "metadata": {
      "tags": []
     },
     "output_type": "execute_result"
    }
   ],
   "source": [
    "df[df['Status2'] == 'Open'].groupby(['Status2'])['Received Via'].value_counts(normalize=True)*100"
   ]
  },
  {
   "cell_type": "code",
   "execution_count": null,
   "metadata": {
    "id": "pQu1vvw-91X5"
   },
   "outputs": [],
   "source": []
  }
 ],
 "metadata": {
  "colab": {
   "authorship_tag": "ABX9TyOKNgxRsQydulwN2lsJcRFO",
   "collapsed_sections": [],
   "name": "Comcast_Saranya.ipynb",
   "provenance": [
    {
     "file_id": "1VSLNGEg70Lhkxv-DWzPOTVA6jktv5_wI",
     "timestamp": 1624089577787
    }
   ]
  },
  "kernelspec": {
   "display_name": "Python 3 (ipykernel)",
   "language": "python",
   "name": "python3"
  },
  "language_info": {
   "codemirror_mode": {
    "name": "ipython",
    "version": 3
   },
   "file_extension": ".py",
   "mimetype": "text/x-python",
   "name": "python",
   "nbconvert_exporter": "python",
   "pygments_lexer": "ipython3",
   "version": "3.8.12"
  }
 },
 "nbformat": 4,
 "nbformat_minor": 1
}
