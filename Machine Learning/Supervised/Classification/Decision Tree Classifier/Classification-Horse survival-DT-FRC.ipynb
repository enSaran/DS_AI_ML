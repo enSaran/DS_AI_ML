{
 "cells": [
  {
   "cell_type": "markdown",
   "id": "115907a1",
   "metadata": {},
   "source": [
    "Horse Survival:\n",
    "------------------\n",
    "Predict the survival of a horse based on various medical conditions.\n",
    "Try Decision Tree classifier and Random Forest classifier  and observe the occuracy"
   ]
  },
  {
   "cell_type": "code",
   "execution_count": 1,
   "id": "4f4ad86c",
   "metadata": {},
   "outputs": [],
   "source": [
    "#Import necessary libraries\n",
    "import pandas as pd\n",
    "import matplotlib.pyplot as plt\n",
    "\n",
    "%matplotlib inline"
   ]
  },
  {
   "cell_type": "code",
   "execution_count": 2,
   "id": "8fec444d",
   "metadata": {},
   "outputs": [],
   "source": [
    "#Read the input dataset\n",
    "animals = pd.read_csv('horse.csv')"
   ]
  },
  {
   "cell_type": "code",
   "execution_count": 3,
   "id": "f7495332",
   "metadata": {},
   "outputs": [
    {
     "data": {
      "text/html": [
       "<div>\n",
       "<style scoped>\n",
       "    .dataframe tbody tr th:only-of-type {\n",
       "        vertical-align: middle;\n",
       "    }\n",
       "\n",
       "    .dataframe tbody tr th {\n",
       "        vertical-align: top;\n",
       "    }\n",
       "\n",
       "    .dataframe thead th {\n",
       "        text-align: right;\n",
       "    }\n",
       "</style>\n",
       "<table border=\"1\" class=\"dataframe\">\n",
       "  <thead>\n",
       "    <tr style=\"text-align: right;\">\n",
       "      <th></th>\n",
       "      <th>surgery</th>\n",
       "      <th>age</th>\n",
       "      <th>hospital_number</th>\n",
       "      <th>rectal_temp</th>\n",
       "      <th>pulse</th>\n",
       "      <th>respiratory_rate</th>\n",
       "      <th>temp_of_extremities</th>\n",
       "      <th>peripheral_pulse</th>\n",
       "      <th>mucous_membrane</th>\n",
       "      <th>capillary_refill_time</th>\n",
       "      <th>...</th>\n",
       "      <th>packed_cell_volume</th>\n",
       "      <th>total_protein</th>\n",
       "      <th>abdomo_appearance</th>\n",
       "      <th>abdomo_protein</th>\n",
       "      <th>outcome</th>\n",
       "      <th>surgical_lesion</th>\n",
       "      <th>lesion_1</th>\n",
       "      <th>lesion_2</th>\n",
       "      <th>lesion_3</th>\n",
       "      <th>cp_data</th>\n",
       "    </tr>\n",
       "  </thead>\n",
       "  <tbody>\n",
       "    <tr>\n",
       "      <th>0</th>\n",
       "      <td>no</td>\n",
       "      <td>adult</td>\n",
       "      <td>530101</td>\n",
       "      <td>38.5</td>\n",
       "      <td>66.0</td>\n",
       "      <td>28.0</td>\n",
       "      <td>cool</td>\n",
       "      <td>reduced</td>\n",
       "      <td>NaN</td>\n",
       "      <td>more_3_sec</td>\n",
       "      <td>...</td>\n",
       "      <td>45.0</td>\n",
       "      <td>8.4</td>\n",
       "      <td>NaN</td>\n",
       "      <td>NaN</td>\n",
       "      <td>died</td>\n",
       "      <td>no</td>\n",
       "      <td>11300</td>\n",
       "      <td>0</td>\n",
       "      <td>0</td>\n",
       "      <td>no</td>\n",
       "    </tr>\n",
       "    <tr>\n",
       "      <th>1</th>\n",
       "      <td>yes</td>\n",
       "      <td>adult</td>\n",
       "      <td>534817</td>\n",
       "      <td>39.2</td>\n",
       "      <td>88.0</td>\n",
       "      <td>20.0</td>\n",
       "      <td>NaN</td>\n",
       "      <td>NaN</td>\n",
       "      <td>pale_cyanotic</td>\n",
       "      <td>less_3_sec</td>\n",
       "      <td>...</td>\n",
       "      <td>50.0</td>\n",
       "      <td>85.0</td>\n",
       "      <td>cloudy</td>\n",
       "      <td>2.0</td>\n",
       "      <td>euthanized</td>\n",
       "      <td>no</td>\n",
       "      <td>2208</td>\n",
       "      <td>0</td>\n",
       "      <td>0</td>\n",
       "      <td>no</td>\n",
       "    </tr>\n",
       "    <tr>\n",
       "      <th>2</th>\n",
       "      <td>no</td>\n",
       "      <td>adult</td>\n",
       "      <td>530334</td>\n",
       "      <td>38.3</td>\n",
       "      <td>40.0</td>\n",
       "      <td>24.0</td>\n",
       "      <td>normal</td>\n",
       "      <td>normal</td>\n",
       "      <td>pale_pink</td>\n",
       "      <td>less_3_sec</td>\n",
       "      <td>...</td>\n",
       "      <td>33.0</td>\n",
       "      <td>6.7</td>\n",
       "      <td>NaN</td>\n",
       "      <td>NaN</td>\n",
       "      <td>lived</td>\n",
       "      <td>no</td>\n",
       "      <td>0</td>\n",
       "      <td>0</td>\n",
       "      <td>0</td>\n",
       "      <td>yes</td>\n",
       "    </tr>\n",
       "    <tr>\n",
       "      <th>3</th>\n",
       "      <td>yes</td>\n",
       "      <td>young</td>\n",
       "      <td>5290409</td>\n",
       "      <td>39.1</td>\n",
       "      <td>164.0</td>\n",
       "      <td>84.0</td>\n",
       "      <td>cold</td>\n",
       "      <td>normal</td>\n",
       "      <td>dark_cyanotic</td>\n",
       "      <td>more_3_sec</td>\n",
       "      <td>...</td>\n",
       "      <td>48.0</td>\n",
       "      <td>7.2</td>\n",
       "      <td>serosanguious</td>\n",
       "      <td>5.3</td>\n",
       "      <td>died</td>\n",
       "      <td>yes</td>\n",
       "      <td>2208</td>\n",
       "      <td>0</td>\n",
       "      <td>0</td>\n",
       "      <td>yes</td>\n",
       "    </tr>\n",
       "    <tr>\n",
       "      <th>4</th>\n",
       "      <td>no</td>\n",
       "      <td>adult</td>\n",
       "      <td>530255</td>\n",
       "      <td>37.3</td>\n",
       "      <td>104.0</td>\n",
       "      <td>35.0</td>\n",
       "      <td>NaN</td>\n",
       "      <td>NaN</td>\n",
       "      <td>dark_cyanotic</td>\n",
       "      <td>more_3_sec</td>\n",
       "      <td>...</td>\n",
       "      <td>74.0</td>\n",
       "      <td>7.4</td>\n",
       "      <td>NaN</td>\n",
       "      <td>NaN</td>\n",
       "      <td>died</td>\n",
       "      <td>no</td>\n",
       "      <td>4300</td>\n",
       "      <td>0</td>\n",
       "      <td>0</td>\n",
       "      <td>no</td>\n",
       "    </tr>\n",
       "  </tbody>\n",
       "</table>\n",
       "<p>5 rows × 28 columns</p>\n",
       "</div>"
      ],
      "text/plain": [
       "  surgery    age  hospital_number  rectal_temp  pulse  respiratory_rate  \\\n",
       "0      no  adult           530101         38.5   66.0              28.0   \n",
       "1     yes  adult           534817         39.2   88.0              20.0   \n",
       "2      no  adult           530334         38.3   40.0              24.0   \n",
       "3     yes  young          5290409         39.1  164.0              84.0   \n",
       "4      no  adult           530255         37.3  104.0              35.0   \n",
       "\n",
       "  temp_of_extremities peripheral_pulse mucous_membrane capillary_refill_time  \\\n",
       "0                cool          reduced             NaN            more_3_sec   \n",
       "1                 NaN              NaN   pale_cyanotic            less_3_sec   \n",
       "2              normal           normal       pale_pink            less_3_sec   \n",
       "3                cold           normal   dark_cyanotic            more_3_sec   \n",
       "4                 NaN              NaN   dark_cyanotic            more_3_sec   \n",
       "\n",
       "   ... packed_cell_volume total_protein abdomo_appearance abdomo_protein  \\\n",
       "0  ...               45.0           8.4               NaN            NaN   \n",
       "1  ...               50.0          85.0            cloudy            2.0   \n",
       "2  ...               33.0           6.7               NaN            NaN   \n",
       "3  ...               48.0           7.2     serosanguious            5.3   \n",
       "4  ...               74.0           7.4               NaN            NaN   \n",
       "\n",
       "      outcome  surgical_lesion lesion_1 lesion_2  lesion_3  cp_data  \n",
       "0        died               no    11300        0         0       no  \n",
       "1  euthanized               no     2208        0         0       no  \n",
       "2       lived               no        0        0         0      yes  \n",
       "3        died              yes     2208        0         0      yes  \n",
       "4        died               no     4300        0         0       no  \n",
       "\n",
       "[5 rows x 28 columns]"
      ]
     },
     "execution_count": 3,
     "metadata": {},
     "output_type": "execute_result"
    }
   ],
   "source": [
    "#View first few records\n",
    "animals.head()"
   ]
  },
  {
   "cell_type": "code",
   "execution_count": 4,
   "id": "cfb30774",
   "metadata": {},
   "outputs": [
    {
     "data": {
      "text/plain": [
       "(299, 28)"
      ]
     },
     "execution_count": 4,
     "metadata": {},
     "output_type": "execute_result"
    }
   ],
   "source": [
    "#View size of the dataset\n",
    "animals.shape"
   ]
  },
  {
   "cell_type": "code",
   "execution_count": 5,
   "id": "54e30220",
   "metadata": {},
   "outputs": [],
   "source": [
    "# Target is the column named 'outcome'\n",
    "target = animals['outcome']"
   ]
  },
  {
   "cell_type": "code",
   "execution_count": 6,
   "id": "45587e50",
   "metadata": {},
   "outputs": [
    {
     "data": {
      "text/plain": [
       "array(['died', 'euthanized', 'lived'], dtype=object)"
      ]
     },
     "execution_count": 6,
     "metadata": {},
     "output_type": "execute_result"
    }
   ],
   "source": [
    "#Check unique values in target\n",
    "target.unique()"
   ]
  },
  {
   "cell_type": "code",
   "execution_count": 7,
   "id": "06efb301",
   "metadata": {},
   "outputs": [],
   "source": [
    "animals = animals.drop(['outcome'],axis=1)"
   ]
  },
  {
   "cell_type": "code",
   "execution_count": 8,
   "id": "be3fc883",
   "metadata": {},
   "outputs": [
    {
     "name": "stdout",
     "output_type": "stream",
     "text": [
      "<class 'pandas.core.frame.DataFrame'>\n",
      "RangeIndex: 299 entries, 0 to 298\n",
      "Data columns (total 27 columns):\n",
      " #   Column                 Non-Null Count  Dtype  \n",
      "---  ------                 --------------  -----  \n",
      " 0   surgery                299 non-null    object \n",
      " 1   age                    299 non-null    object \n",
      " 2   hospital_number        299 non-null    int64  \n",
      " 3   rectal_temp            239 non-null    float64\n",
      " 4   pulse                  275 non-null    float64\n",
      " 5   respiratory_rate       241 non-null    float64\n",
      " 6   temp_of_extremities    243 non-null    object \n",
      " 7   peripheral_pulse       230 non-null    object \n",
      " 8   mucous_membrane        252 non-null    object \n",
      " 9   capillary_refill_time  267 non-null    object \n",
      " 10  pain                   244 non-null    object \n",
      " 11  peristalsis            255 non-null    object \n",
      " 12  abdominal_distention   243 non-null    object \n",
      " 13  nasogastric_tube       195 non-null    object \n",
      " 14  nasogastric_reflux     193 non-null    object \n",
      " 15  nasogastric_reflux_ph  53 non-null     float64\n",
      " 16  rectal_exam_feces      197 non-null    object \n",
      " 17  abdomen                181 non-null    object \n",
      " 18  packed_cell_volume     270 non-null    float64\n",
      " 19  total_protein          266 non-null    float64\n",
      " 20  abdomo_appearance      134 non-null    object \n",
      " 21  abdomo_protein         101 non-null    float64\n",
      " 22  surgical_lesion        299 non-null    object \n",
      " 23  lesion_1               299 non-null    int64  \n",
      " 24  lesion_2               299 non-null    int64  \n",
      " 25  lesion_3               299 non-null    int64  \n",
      " 26  cp_data                299 non-null    object \n",
      "dtypes: float64(7), int64(4), object(16)\n",
      "memory usage: 63.2+ KB\n"
     ]
    }
   ],
   "source": [
    "animals.info()"
   ]
  },
  {
   "cell_type": "code",
   "execution_count": 9,
   "id": "d5600a9b",
   "metadata": {},
   "outputs": [],
   "source": [
    "# As DT algo does not work well with category variables, we convert them to numeric using dummies\n",
    "category_variables = ['surgery','age','temp_of_extremities','peripheral_pulse',\n",
    "                     'mucous_membrane','capillary_refill_time','pain','peristalsis',\n",
    "                     'abdominal_distention','nasogastric_tube','nasogastric_reflux',\n",
    "                      'rectal_exam_feces','abdomen','abdomo_appearance','surgical_lesion',\n",
    "                      'cp_data']"
   ]
  },
  {
   "cell_type": "code",
   "execution_count": 10,
   "id": "8b25cd12",
   "metadata": {},
   "outputs": [],
   "source": [
    "for category in category_variables:\n",
    "    animals[category] = pd.get_dummies(animals[category])"
   ]
  },
  {
   "cell_type": "code",
   "execution_count": 11,
   "id": "e4be899d",
   "metadata": {},
   "outputs": [
    {
     "name": "stdout",
     "output_type": "stream",
     "text": [
      "['died' 'euthanized' 'lived' 'died' 'died' 'lived' 'lived' 'died'\n",
      " 'euthanized' 'lived' 'lived' 'lived' 'lived' 'died' 'lived' 'died' 'died'\n",
      " 'lived' 'lived' 'lived' 'lived' 'lived' 'lived' 'lived' 'lived' 'lived'\n",
      " 'lived' 'lived' 'died' 'lived' 'died' 'euthanized' 'lived' 'lived'\n",
      " 'lived' 'euthanized' 'euthanized' 'lived' 'lived' 'died' 'died' 'lived'\n",
      " 'lived' 'euthanized' 'euthanized' 'died' 'lived' 'lived' 'died' 'died'\n",
      " 'lived' 'died' 'lived' 'lived' 'euthanized' 'died' 'lived' 'died' 'died'\n",
      " 'died' 'lived' 'lived' 'died' 'euthanized' 'lived' 'lived' 'lived'\n",
      " 'lived' 'lived' 'lived' 'euthanized' 'lived' 'died' 'died' 'died'\n",
      " 'euthanized' 'lived' 'lived' 'died' 'lived' 'died' 'lived' 'lived' 'died'\n",
      " 'lived' 'lived' 'died' 'euthanized' 'lived' 'lived' 'lived' 'died'\n",
      " 'lived' 'died' 'lived' 'lived' 'lived' 'euthanized' 'lived' 'lived'\n",
      " 'lived' 'euthanized' 'lived' 'lived' 'died' 'lived' 'lived' 'lived'\n",
      " 'euthanized' 'died' 'died' 'lived' 'lived' 'died' 'lived' 'lived' 'lived'\n",
      " 'euthanized' 'lived' 'lived' 'lived' 'euthanized' 'lived' 'died'\n",
      " 'euthanized' 'lived' 'lived' 'lived' 'euthanized' 'lived' 'died' 'died'\n",
      " 'lived' 'died' 'died' 'died' 'lived' 'lived' 'lived' 'lived' 'died'\n",
      " 'died' 'lived' 'euthanized' 'lived' 'lived' 'died' 'lived' 'lived'\n",
      " 'lived' 'died' 'lived' 'lived' 'lived' 'lived' 'lived' 'euthanized'\n",
      " 'lived' 'lived' 'lived' 'died' 'lived' 'euthanized' 'lived' 'euthanized'\n",
      " 'lived' 'lived' 'lived' 'euthanized' 'lived' 'died' 'lived' 'died' 'died'\n",
      " 'lived' 'lived' 'died' 'lived' 'euthanized' 'died' 'lived' 'died' 'lived'\n",
      " 'lived' 'lived' 'lived' 'lived' 'lived' 'lived' 'lived' 'lived' 'lived'\n",
      " 'died' 'lived' 'lived' 'euthanized' 'died' 'lived' 'lived' 'lived' 'died'\n",
      " 'euthanized' 'lived' 'lived' 'euthanized' 'lived' 'died' 'euthanized'\n",
      " 'lived' 'died' 'died' 'lived' 'lived' 'lived' 'lived' 'lived' 'lived'\n",
      " 'euthanized' 'lived' 'euthanized' 'lived' 'lived' 'lived' 'lived' 'lived'\n",
      " 'died' 'lived' 'euthanized' 'lived' 'lived' 'died' 'lived' 'lived'\n",
      " 'lived' 'died' 'lived' 'lived' 'euthanized' 'euthanized' 'died' 'lived'\n",
      " 'died' 'lived' 'lived' 'died' 'lived' 'died' 'lived' 'lived' 'euthanized'\n",
      " 'died' 'died' 'lived' 'lived' 'died' 'euthanized' 'died' 'lived' 'died'\n",
      " 'lived' 'lived' 'lived' 'died' 'lived' 'euthanized' 'lived' 'lived'\n",
      " 'lived' 'lived' 'died' 'lived' 'lived' 'died' 'euthanized' 'died'\n",
      " 'euthanized' 'lived' 'lived' 'lived' 'lived' 'died' 'died' 'lived'\n",
      " 'lived' 'lived' 'euthanized' 'lived' 'lived' 'lived' 'lived' 'died'\n",
      " 'died' 'euthanized' 'lived' 'euthanized' 'euthanized' 'died' 'lived'\n",
      " 'euthanized']\n",
      "[0 1 2 0 0 2 2 0 1 2 2 2 2 0 2 0 0 2 2 2 2 2 2 2 2 2 2 2 0 2 0 1 2 2 2 1 1\n",
      " 2 2 0 0 2 2 1 1 0 2 2 0 0 2 0 2 2 1 0 2 0 0 0 2 2 0 1 2 2 2 2 2 2 1 2 0 0\n",
      " 0 1 2 2 0 2 0 2 2 0 2 2 0 1 2 2 2 0 2 0 2 2 2 1 2 2 2 1 2 2 0 2 2 2 1 0 0\n",
      " 2 2 0 2 2 2 1 2 2 2 1 2 0 1 2 2 2 1 2 0 0 2 0 0 0 2 2 2 2 0 0 2 1 2 2 0 2\n",
      " 2 2 0 2 2 2 2 2 1 2 2 2 0 2 1 2 1 2 2 2 1 2 0 2 0 0 2 2 0 2 1 0 2 0 2 2 2\n",
      " 2 2 2 2 2 2 2 0 2 2 1 0 2 2 2 0 1 2 2 1 2 0 1 2 0 0 2 2 2 2 2 2 1 2 1 2 2\n",
      " 2 2 2 0 2 1 2 2 0 2 2 2 0 2 2 1 1 0 2 0 2 2 0 2 0 2 2 1 0 0 2 2 0 1 0 2 0\n",
      " 2 2 2 0 2 1 2 2 2 2 0 2 2 0 1 0 1 2 2 2 2 0 0 2 2 2 1 2 2 2 2 0 0 1 2 1 1\n",
      " 0 2 1]\n"
     ]
    }
   ],
   "source": [
    "from sklearn.model_selection import train_test_split\n",
    "from sklearn.preprocessing import LabelEncoder\n",
    "\n",
    "X, y = animals.values, target.values\n",
    "label_encoder = LabelEncoder() # Applying label encoder to change categorical values into numeric values\n",
    "print(y)\n",
    "y = label_encoder.fit_transform(y)\n",
    "print(y)\n",
    "X_train, X_test, y_train, y_test = train_test_split(X,y,test_size=0.2,random_state=1)"
   ]
  },
  {
   "cell_type": "code",
   "execution_count": 12,
   "id": "5752031c",
   "metadata": {},
   "outputs": [
    {
     "name": "stdout",
     "output_type": "stream",
     "text": [
      "(239, 27)\n"
     ]
    }
   ],
   "source": [
    "from sklearn.tree import DecisionTreeClassifier\n",
    "print(X_train.shape)"
   ]
  },
  {
   "cell_type": "code",
   "execution_count": 13,
   "id": "32533cfd",
   "metadata": {},
   "outputs": [],
   "source": [
    "#Replace Nan values in both train & test data using most_frequent values\n",
    "from sklearn.impute import SimpleImputer\n",
    "import numpy as np\n",
    "imp = SimpleImputer(missing_values=np.nan, strategy=\"most_frequent\")\n",
    "X_train = imp.fit_transform(X_train)\n",
    "X_test = imp.fit_transform(X_test)"
   ]
  },
  {
   "cell_type": "code",
   "execution_count": 14,
   "id": "7eb10461",
   "metadata": {},
   "outputs": [],
   "source": [
    "classifier = DecisionTreeClassifier()"
   ]
  },
  {
   "cell_type": "code",
   "execution_count": 15,
   "id": "84d00dae",
   "metadata": {},
   "outputs": [
    {
     "data": {
      "text/plain": [
       "DecisionTreeClassifier()"
      ]
     },
     "execution_count": 15,
     "metadata": {},
     "output_type": "execute_result"
    }
   ],
   "source": [
    "classifier.fit(X_train,y_train)"
   ]
  },
  {
   "cell_type": "code",
   "execution_count": 16,
   "id": "e2940b7f",
   "metadata": {},
   "outputs": [],
   "source": [
    "y_predict = classifier.predict(X_test)"
   ]
  },
  {
   "cell_type": "code",
   "execution_count": 17,
   "id": "6fde7088",
   "metadata": {},
   "outputs": [],
   "source": [
    "from sklearn.metrics import accuracy_score"
   ]
  },
  {
   "cell_type": "code",
   "execution_count": 18,
   "id": "5c24908c",
   "metadata": {},
   "outputs": [
    {
     "name": "stdout",
     "output_type": "stream",
     "text": [
      "Accuracy of DT: 0.5833333333333334\n"
     ]
    }
   ],
   "source": [
    "accuracy = accuracy_score(y_predict,y_test)\n",
    "print('Accuracy of DT:',accuracy)"
   ]
  },
  {
   "cell_type": "code",
   "execution_count": 19,
   "id": "1a326120",
   "metadata": {},
   "outputs": [],
   "source": [
    "from sklearn.ensemble import RandomForestClassifier\n",
    "classifier = RandomForestClassifier()"
   ]
  },
  {
   "cell_type": "code",
   "execution_count": 20,
   "id": "2204e33e",
   "metadata": {},
   "outputs": [
    {
     "data": {
      "text/plain": [
       "RandomForestClassifier()"
      ]
     },
     "execution_count": 20,
     "metadata": {},
     "output_type": "execute_result"
    }
   ],
   "source": [
    "classifier.fit(X_train,y_train)"
   ]
  },
  {
   "cell_type": "code",
   "execution_count": 21,
   "id": "670205c3",
   "metadata": {},
   "outputs": [],
   "source": [
    "y_predict = classifier.predict(X_test)"
   ]
  },
  {
   "cell_type": "code",
   "execution_count": 22,
   "id": "11090b25",
   "metadata": {},
   "outputs": [
    {
     "name": "stdout",
     "output_type": "stream",
     "text": [
      "Accuracy of RFC: 0.7166666666666667\n"
     ]
    }
   ],
   "source": [
    "accuracy = accuracy_score(y_predict,y_test)\n",
    "print('Accuracy of RFC:', accuracy)"
   ]
  },
  {
   "cell_type": "markdown",
   "id": "5452bde2",
   "metadata": {},
   "source": [
    "We can see the ensemble algo, RFC has better accuracy than DT."
   ]
  }
 ],
 "metadata": {
  "kernelspec": {
   "display_name": "Python 3",
   "language": "python",
   "name": "python3"
  },
  "language_info": {
   "codemirror_mode": {
    "name": "ipython",
    "version": 3
   },
   "file_extension": ".py",
   "mimetype": "text/x-python",
   "name": "python",
   "nbconvert_exporter": "python",
   "pygments_lexer": "ipython3",
   "version": "3.8.8"
  }
 },
 "nbformat": 4,
 "nbformat_minor": 5
}
